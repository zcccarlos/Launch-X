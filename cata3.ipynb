{
 "cells": [
  {
   "cell_type": "code",
   "execution_count": 10,
   "metadata": {},
   "outputs": [
    {
     "name": "stdout",
     "output_type": "stream",
     "text": [
      "Peligro asteroide\n"
     ]
    }
   ],
   "source": [
    "asteroide  = 49 \n",
    "if asteroide > 25 : print (\"Peligro asteroide\")\n",
    "else : print (\"Todo bien\")"
   ]
  },
  {
   "cell_type": "code",
   "execution_count": 11,
   "metadata": {},
   "outputs": [
    {
     "name": "stdout",
     "output_type": "stream",
     "text": [
      "Todo bien\n"
     ]
    }
   ],
   "source": [
    "asteroide  = 19\n",
    "if asteroide > 25 : print (\"Peligro asteroide\")\n",
    "elif asteroide >= 20 : print (\"todo el mundo deben buscar un asteroide en el cielo\")\n",
    "else : print (\"Todo bien\")"
   ]
  },
  {
   "cell_type": "code",
   "execution_count": 18,
   "metadata": {},
   "outputs": [
    {
     "name": "stdout",
     "output_type": "stream",
     "text": [
      "apocalipsis\n"
     ]
    }
   ],
   "source": [
    "tamaño = 40\n",
    "velocidad = 26\n",
    "\n",
    "if tamaño > 25 and velocidad > 25 : print (\"apocalipsis\")\n",
    "elif velocidad > 25 : print (\"Peligro asteroide\")\n",
    "elif asteroide >= 20 : print (\"todo el mundo deben buscar un asteroide en el cielo\")\n",
    "else : print (\"Todo bien\")"
   ]
  }
 ],
 "metadata": {
  "interpreter": {
   "hash": "07f48b0f95b7f0259aa291c7b0ed9839f32f5733871eef92321c7bb89f2547e4"
  },
  "kernelspec": {
   "display_name": "Python 3.10.2 64-bit",
   "language": "python",
   "name": "python3"
  },
  "language_info": {
   "codemirror_mode": {
    "name": "ipython",
    "version": 3
   },
   "file_extension": ".py",
   "mimetype": "text/x-python",
   "name": "python",
   "nbconvert_exporter": "python",
   "pygments_lexer": "ipython3",
   "version": "3.10.2"
  },
  "orig_nbformat": 4
 },
 "nbformat": 4,
 "nbformat_minor": 2
}
