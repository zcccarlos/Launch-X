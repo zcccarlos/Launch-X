{
 "cells": [
  {
   "cell_type": "code",
   "execution_count": 11,
   "metadata": {},
   "outputs": [
    {
     "name": "stdout",
     "output_type": "stream",
     "text": [
      "Couldn't find the config.txt file!\n"
     ]
    }
   ],
   "source": [
    "def main():\n",
    "    try:\n",
    "        configuration = open('config.txt')\n",
    "    except FileNotFoundError:\n",
    "        print(\"Couldn't find the config.txt file!\")\n",
    "    except IsADirectoryError:\n",
    "        print(\"Found config.txt but it is a directory, couldn't read it\")\n",
    "    except (BlockingIOError, TimeoutError):\n",
    "        print(\"Filesystem under heavy load, can't complete reading configuration file\")\n",
    "\n",
    "\n",
    "if __name__ == '__main__':\n",
    "    main()"
   ]
  },
  {
   "cell_type": "code",
   "execution_count": 12,
   "metadata": {},
   "outputs": [
    {
     "name": "stdout",
     "output_type": "stream",
     "text": [
      "got a problem trying to read the file: [Errno 2] No such file or directory: 'mars.jpg'\n"
     ]
    }
   ],
   "source": [
    "try:\n",
    "    open(\"mars.jpg\")\n",
    "except FileNotFoundError as err:\n",
    "    print(\"got a problem trying to read the file:\", err)"
   ]
  },
  {
   "cell_type": "code",
   "execution_count": 13,
   "metadata": {},
   "outputs": [
    {
     "name": "stdout",
     "output_type": "stream",
     "text": [
      "Couldn't find the config.txt file!\n"
     ]
    }
   ],
   "source": [
    "try:\n",
    "    open(\"config.txt\")\n",
    "except OSError as err:\n",
    "    if err.errno == 2:\n",
    "        print(\"Couldn't find the config.txt file!\")\n",
    "    elif err.errno == 13:\n",
    "        print(\"Found config.txt but couldn't read it\")"
   ]
  },
  {
   "cell_type": "code",
   "execution_count": 22,
   "metadata": {},
   "outputs": [
    {
     "ename": "TypeError",
     "evalue": "All arguments must be of type int, but received: '3'",
     "output_type": "error",
     "traceback": [
      "\u001b[1;31m---------------------------------------------------------------------------\u001b[0m",
      "\u001b[1;31mTypeError\u001b[0m                                 Traceback (most recent call last)",
      "\u001b[1;32md:\\Proyectos\\Launch X\\Launch-X-Python\\kata10.ipynb Cell 4'\u001b[0m in \u001b[0;36mwater_left\u001b[1;34m(astronauts, water_left, days_left)\u001b[0m\n\u001b[0;32m      <a href='vscode-notebook-cell:/d%3A/Proyectos/Launch%20X/Launch-X-Python/kata10.ipynb#ch0000003?line=2'>3</a>\u001b[0m \u001b[39mtry\u001b[39;00m:\n\u001b[0;32m      <a href='vscode-notebook-cell:/d%3A/Proyectos/Launch%20X/Launch-X-Python/kata10.ipynb#ch0000003?line=3'>4</a>\u001b[0m     \u001b[39m# If argument is an int, the following operation will work\u001b[39;00m\n\u001b[1;32m----> <a href='vscode-notebook-cell:/d%3A/Proyectos/Launch%20X/Launch-X-Python/kata10.ipynb#ch0000003?line=4'>5</a>\u001b[0m     argument \u001b[39m/\u001b[39;49m \u001b[39m10\u001b[39;49m\n\u001b[0;32m      <a href='vscode-notebook-cell:/d%3A/Proyectos/Launch%20X/Launch-X-Python/kata10.ipynb#ch0000003?line=5'>6</a>\u001b[0m \u001b[39mexcept\u001b[39;00m \u001b[39mTypeError\u001b[39;00m:\n\u001b[0;32m      <a href='vscode-notebook-cell:/d%3A/Proyectos/Launch%20X/Launch-X-Python/kata10.ipynb#ch0000003?line=6'>7</a>\u001b[0m     \u001b[39m# TypError will be raised only if it isn't the right type \u001b[39;00m\n\u001b[0;32m      <a href='vscode-notebook-cell:/d%3A/Proyectos/Launch%20X/Launch-X-Python/kata10.ipynb#ch0000003?line=7'>8</a>\u001b[0m     \u001b[39m# Raise the same exception but with a better error message\u001b[39;00m\n",
      "\u001b[1;31mTypeError\u001b[0m: unsupported operand type(s) for /: 'str' and 'int'",
      "\nDuring handling of the above exception, another exception occurred:\n",
      "\u001b[1;31mTypeError\u001b[0m                                 Traceback (most recent call last)",
      "\u001b[1;32md:\\Proyectos\\Launch X\\Launch-X-Python\\kata10.ipynb Cell 4'\u001b[0m in \u001b[0;36m<module>\u001b[1;34m\u001b[0m\n\u001b[0;32m     <a href='vscode-notebook-cell:/d%3A/Proyectos/Launch%20X/Launch-X-Python/kata10.ipynb#ch0000003?line=14'>15</a>\u001b[0m     \u001b[39mreturn\u001b[39;00m \u001b[39mf\u001b[39m\u001b[39m\"\u001b[39m\u001b[39mTotal water left after \u001b[39m\u001b[39m{\u001b[39;00mdays_left\u001b[39m}\u001b[39;00m\u001b[39m days is: \u001b[39m\u001b[39m{\u001b[39;00mtotal_water_left\u001b[39m}\u001b[39;00m\u001b[39m liters\u001b[39m\u001b[39m\"\u001b[39m\n\u001b[0;32m     <a href='vscode-notebook-cell:/d%3A/Proyectos/Launch%20X/Launch-X-Python/kata10.ipynb#ch0000003?line=16'>17</a>\u001b[0m \u001b[39mtry\u001b[39;00m:\n\u001b[1;32m---> <a href='vscode-notebook-cell:/d%3A/Proyectos/Launch%20X/Launch-X-Python/kata10.ipynb#ch0000003?line=17'>18</a>\u001b[0m     water_left(\u001b[39m\"\u001b[39;49m\u001b[39m3\u001b[39;49m\u001b[39m\"\u001b[39;49m, \u001b[39m\"\u001b[39;49m\u001b[39m200\u001b[39;49m\u001b[39m\"\u001b[39;49m, \u001b[39mNone\u001b[39;49;00m)\n\u001b[0;32m     <a href='vscode-notebook-cell:/d%3A/Proyectos/Launch%20X/Launch-X-Python/kata10.ipynb#ch0000003?line=18'>19</a>\u001b[0m \u001b[39mexcept\u001b[39;00m \u001b[39mRuntimeError\u001b[39;00m \u001b[39mas\u001b[39;00m err:\n\u001b[0;32m     <a href='vscode-notebook-cell:/d%3A/Proyectos/Launch%20X/Launch-X-Python/kata10.ipynb#ch0000003?line=19'>20</a>\u001b[0m     \u001b[39mprint\u001b[39m(err)\n",
      "\u001b[1;32md:\\Proyectos\\Launch X\\Launch-X-Python\\kata10.ipynb Cell 4'\u001b[0m in \u001b[0;36mwater_left\u001b[1;34m(astronauts, water_left, days_left)\u001b[0m\n\u001b[0;32m      <a href='vscode-notebook-cell:/d%3A/Proyectos/Launch%20X/Launch-X-Python/kata10.ipynb#ch0000003?line=4'>5</a>\u001b[0m         argument \u001b[39m/\u001b[39m \u001b[39m10\u001b[39m\n\u001b[0;32m      <a href='vscode-notebook-cell:/d%3A/Proyectos/Launch%20X/Launch-X-Python/kata10.ipynb#ch0000003?line=5'>6</a>\u001b[0m     \u001b[39mexcept\u001b[39;00m \u001b[39mTypeError\u001b[39;00m:\n\u001b[0;32m      <a href='vscode-notebook-cell:/d%3A/Proyectos/Launch%20X/Launch-X-Python/kata10.ipynb#ch0000003?line=6'>7</a>\u001b[0m         \u001b[39m# TypError will be raised only if it isn't the right type \u001b[39;00m\n\u001b[0;32m      <a href='vscode-notebook-cell:/d%3A/Proyectos/Launch%20X/Launch-X-Python/kata10.ipynb#ch0000003?line=7'>8</a>\u001b[0m         \u001b[39m# Raise the same exception but with a better error message\u001b[39;00m\n\u001b[1;32m----> <a href='vscode-notebook-cell:/d%3A/Proyectos/Launch%20X/Launch-X-Python/kata10.ipynb#ch0000003?line=8'>9</a>\u001b[0m         \u001b[39mraise\u001b[39;00m \u001b[39mTypeError\u001b[39;00m(\u001b[39mf\u001b[39m\u001b[39m\"\u001b[39m\u001b[39mAll arguments must be of type int, but received: \u001b[39m\u001b[39m'\u001b[39m\u001b[39m{\u001b[39;00margument\u001b[39m}\u001b[39;00m\u001b[39m'\u001b[39m\u001b[39m\"\u001b[39m)\n\u001b[0;32m     <a href='vscode-notebook-cell:/d%3A/Proyectos/Launch%20X/Launch-X-Python/kata10.ipynb#ch0000003?line=9'>10</a>\u001b[0m daily_usage \u001b[39m=\u001b[39m astronauts \u001b[39m*\u001b[39m \u001b[39m11\u001b[39m\n\u001b[0;32m     <a href='vscode-notebook-cell:/d%3A/Proyectos/Launch%20X/Launch-X-Python/kata10.ipynb#ch0000003?line=10'>11</a>\u001b[0m total_usage \u001b[39m=\u001b[39m daily_usage \u001b[39m*\u001b[39m days_left\n",
      "\u001b[1;31mTypeError\u001b[0m: All arguments must be of type int, but received: '3'"
     ]
    }
   ],
   "source": [
    "def water_left(astronauts, water_left, days_left):\n",
    "    for argument in [astronauts, water_left, days_left]:\n",
    "        try:\n",
    "            # If argument is an int, the following operation will work\n",
    "            argument / 10\n",
    "        except TypeError:\n",
    "            # TypError will be raised only if it isn't the right type \n",
    "            # Raise the same exception but with a better error message\n",
    "            raise TypeError(f\"All arguments must be of type int, but received: '{argument}'\")\n",
    "    daily_usage = astronauts * 11\n",
    "    total_usage = daily_usage * days_left\n",
    "    total_water_left = water_left - total_usage\n",
    "    if total_water_left < 0:\n",
    "        raise RuntimeError(f\"There is not enough water for {astronauts} astronauts after {days_left} days!\")\n",
    "    return f\"Total water left after {days_left} days is: {total_water_left} liters\"\n",
    "\n",
    "try:\n",
    "    water_left(\"3\", \"200\", None)\n",
    "except RuntimeError as err:\n",
    "    print(err)"
   ]
  }
 ],
 "metadata": {
  "interpreter": {
   "hash": "07f48b0f95b7f0259aa291c7b0ed9839f32f5733871eef92321c7bb89f2547e4"
  },
  "kernelspec": {
   "display_name": "Python 3.10.2 64-bit",
   "language": "python",
   "name": "python3"
  },
  "language_info": {
   "codemirror_mode": {
    "name": "ipython",
    "version": 3
   },
   "file_extension": ".py",
   "mimetype": "text/x-python",
   "name": "python",
   "nbconvert_exporter": "python",
   "pygments_lexer": "ipython3",
   "version": "3.10.2"
  },
  "orig_nbformat": 4
 },
 "nbformat": 4,
 "nbformat_minor": 2
}
