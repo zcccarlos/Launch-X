{
 "cells": [
  {
   "cell_type": "code",
   "execution_count": 5,
   "metadata": {},
   "outputs": [
    {
     "name": "stdout",
     "output_type": "stream",
     "text": [
      "8\n"
     ]
    }
   ],
   "source": [
    "planets = ['Mercury', 'Venus', 'Earth', 'Mars', 'Jupiter', 'Saturn', 'Uranus', 'Neptune']\n",
    "print(len(planets))\n",
    "\n",
    "planets.append(\"pluton\")\n",
    "print(len(planets))"
   ]
  },
  {
   "cell_type": "code",
   "execution_count": 8,
   "metadata": {},
   "outputs": [
    {
     "name": "stdout",
     "output_type": "stream",
     "text": [
      "los planetas mas cercanos que Neptune son: ['Mercury', 'Venus', 'Earth', 'Mars', 'Jupiter', 'Saturn']\n",
      "los planetas mas lejanos que Neptune son: []\n"
     ]
    }
   ],
   "source": [
    "planets = ['Mercury', 'Venus', 'Earth', 'Mars', 'Jupiter', 'Saturn', 'Neptune']\n",
    "\n",
    "planeta = input(\"planeta: \")\n",
    "\n",
    "posicion = planets.index(planeta)\n",
    "\n",
    "print(f\"los planetas mas cercanos que {planeta} son: {planets[0:posicion]}\")\n",
    "print(f\"los planetas mas lejanos que {planeta} son: {planets[posicion+1:]}\")"
   ]
  }
 ],
 "metadata": {
  "interpreter": {
   "hash": "07f48b0f95b7f0259aa291c7b0ed9839f32f5733871eef92321c7bb89f2547e4"
  },
  "kernelspec": {
   "display_name": "Python 3.10.2 64-bit",
   "language": "python",
   "name": "python3"
  },
  "language_info": {
   "codemirror_mode": {
    "name": "ipython",
    "version": 3
   },
   "file_extension": ".py",
   "mimetype": "text/x-python",
   "name": "python",
   "nbconvert_exporter": "python",
   "pygments_lexer": "ipython3",
   "version": "3.10.2"
  },
  "orig_nbformat": 4
 },
 "nbformat": 4,
 "nbformat_minor": 2
}
