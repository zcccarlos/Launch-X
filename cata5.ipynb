{
 "cells": [
  {
   "cell_type": "code",
   "execution_count": 25,
   "metadata": {},
   "outputs": [
    {
     "name": "stdout",
     "output_type": "stream",
     "text": [
      "628949330\n",
      "383246500.53952\n"
     ]
    }
   ],
   "source": [
    "Tierra = 149597870 #km\n",
    "Jupiter = 778547200 #km\n",
    "\n",
    "distancia = Jupiter - Tierra\n",
    "diatanciaMillas = distancia * 0.609344\n",
    "\n",
    "print(distancia)\n",
    "print(diatanciaMillas)"
   ]
  },
  {
   "cell_type": "code",
   "execution_count": 24,
   "metadata": {},
   "outputs": [
    {
     "name": "stdout",
     "output_type": "stream",
     "text": [
      "4437200000\n",
      "2757148254.195498\n"
     ]
    }
   ],
   "source": [
    "planeta1 = int(input(\"distancia del sol al planeta 1: \"))\n",
    "planeta2 = int(input(\"distancia del sol al planeta 2: \"))\n",
    "\n",
    "distancia = abs(planeta1 - planeta2)\n",
    "diatanciaMillas = distancia * 0.609344\n",
    "\n",
    "print(distancia)\n",
    "print(diatanciaMillas)"
   ]
  }
 ],
 "metadata": {
  "interpreter": {
   "hash": "9d3c3a873ee54bf6acd3d60f8cbd09a9fdaabc45f58687ee90a9a2e18132f11e"
  },
  "kernelspec": {
   "display_name": "Python 3.10.2 ('env': venv)",
   "language": "python",
   "name": "python3"
  },
  "language_info": {
   "codemirror_mode": {
    "name": "ipython",
    "version": 3
   },
   "file_extension": ".py",
   "mimetype": "text/x-python",
   "name": "python",
   "nbconvert_exporter": "python",
   "pygments_lexer": "ipython3",
   "version": "3.10.2"
  },
  "orig_nbformat": 4
 },
 "nbformat": 4,
 "nbformat_minor": 2
}
