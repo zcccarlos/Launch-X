{
 "cells": [
  {
   "cell_type": "code",
   "execution_count": 44,
   "metadata": {},
   "outputs": [
    {
     "name": "stdout",
     "output_type": "stream",
     "text": [
      " \n",
      "On average, the Moon moves 4cm away from the Earth every year\n",
      " The highest daylight temperature of the Moon is 127 Celsius\n"
     ]
    }
   ],
   "source": [
    "text = \"\"\"Interesting facts about the Moon. The Moon is Earth's only satellite. There are several interesting facts about the Moon and how it affects life here on Earth. \n",
    "On average, the Moon moves 4cm away from the Earth every year. This yearly drift is not significant enough to cause immediate effects on Earth. The highest daylight temperature of the Moon is 127 C.\"\"\"\n",
    "echos = [\"average\", \"temperature\", \"distance\"]\n",
    "oraciones = text.split(\".\")\n",
    "\n",
    "for oracion in oraciones:\n",
    "    contador = 0\n",
    "    for echo in echos:\n",
    "        if oracion.find(echo) > 0: contador += 1\n",
    "    if contador > 0: print(oracion.replace(\"C\",\"Celsius\"))\n",
    "\n"
   ]
  },
  {
   "cell_type": "code",
   "execution_count": 63,
   "metadata": {},
   "outputs": [
    {
     "name": "stdout",
     "output_type": "stream",
     "text": [
      "Gravity Facts About Moon\n",
      "-------------------------------------------------------------------------------- \n",
      "Planet Name: Earth\n",
      "Gravity on Moon: 1.6199999999999999 m/s2\n",
      "\n",
      "Gravity Facts about Ganímedes\n",
      "--------------------------------------------------------------------------------\n",
      "Planet Name: Marte\n",
      "Gravity on Ganímedes: 1.4300000000000002 m/s2\n"
     ]
    }
   ],
   "source": [
    "# Datos con los que vas a trabajar\n",
    "name  = \"Moon\"\n",
    "gravity  = 0.00162 # in kms\n",
    "planet = \"Earth\"\n",
    "\n",
    "titulo = f\"Gravity Facts about {name}\"\n",
    "texto = f\"\"\"{titulo.title()}\n",
    "{'-'*80} \n",
    "Planet Name: {planet}\n",
    "Gravity on {name}: {gravity*1000} m/s2\"\"\"\n",
    "\n",
    "print(texto)\n",
    "\n",
    "name = \"Ganímedes\"\n",
    "gravity   = 0.00143\n",
    "planet = \"Marte\"\n",
    "\n",
    "texto = \"\"\"Gravity Facts about {0}\n",
    "{1}\n",
    "Planet Name: {2}\n",
    "Gravity on {0}: {3} m/s2\"\"\".format(name,str('-'*80),planet,gravity*1000)\n",
    "\n",
    "print(\"\\n\"+texto)"
   ]
  }
 ],
 "metadata": {
  "interpreter": {
   "hash": "07f48b0f95b7f0259aa291c7b0ed9839f32f5733871eef92321c7bb89f2547e4"
  },
  "kernelspec": {
   "display_name": "Python 3.10.2 64-bit",
   "language": "python",
   "name": "python3"
  },
  "language_info": {
   "codemirror_mode": {
    "name": "ipython",
    "version": 3
   },
   "file_extension": ".py",
   "mimetype": "text/x-python",
   "name": "python",
   "nbconvert_exporter": "python",
   "pygments_lexer": "ipython3",
   "version": "3.10.2"
  },
  "orig_nbformat": 4
 },
 "nbformat": 4,
 "nbformat_minor": 2
}
