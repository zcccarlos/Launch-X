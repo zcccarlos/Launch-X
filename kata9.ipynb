{
 "cells": [
  {
   "cell_type": "code",
   "execution_count": 22,
   "metadata": {},
   "outputs": [
    {
     "name": "stdout",
     "output_type": "stream",
     "text": [
      "Fuel Report:\n",
      "    Total Average: 70.66666666666667%\n",
      "    tanque 1: 85%\n",
      "    tanque 2: 50%\n",
      "    tanque 3: 77% \n",
      "    \n"
     ]
    }
   ],
   "source": [
    "def promedio(values):\n",
    "    total = sum(values)\n",
    "    number_of_items = len(values)\n",
    "    return total / number_of_items\n",
    "\n",
    "def reporte(tanque1, tanque2, tanque3):\n",
    "    return f\"\"\"Fuel Report:\n",
    "    Total Average: {promedio([tanque1, tanque2, tanque3])}%\n",
    "    tanque 1: {tanque1}%\n",
    "    tanque 2: {tanque2}%\n",
    "    tanque 3: {tanque3}% \n",
    "    \"\"\"\n",
    "print(reporte(85, 50, 77))\n",
    "\n",
    "\n"
   ]
  },
  {
   "cell_type": "code",
   "execution_count": 35,
   "metadata": {},
   "outputs": [
    {
     "name": "stdout",
     "output_type": "stream",
     "text": [
      "\n",
      "    mision a marte\n",
      "    Total tiempo: 82 minutes\n",
      "    Total conbustible: 895000\n",
      "    prinsipal tanque --> 880000 litos sobrantes\n",
      "secundario tanque --> 15000 litos sobrantes\n",
      "\n"
     ]
    }
   ],
   "source": [
    "def mission_report(destination, *minutes, **fuel_reservoirs):\n",
    "    main_report = f\"\"\"\n",
    "    mision a {destination}\n",
    "    Total tiempo: {sum(minutes)} minutes\n",
    "    Total conbustible: {sum(fuel_reservoirs.values())}\n",
    "    \"\"\"\n",
    "    for tank_name, gallons in fuel_reservoirs.items():\n",
    "        main_report += f\"{tank_name} tanque --> {gallons} litos sobrantes\\n\"\n",
    "    return main_report\n",
    "\n",
    "print(mission_report(\"marte\", 70, 12, prinsipal=880000, secundario=15000))\n"
   ]
  }
 ],
 "metadata": {
  "interpreter": {
   "hash": "07f48b0f95b7f0259aa291c7b0ed9839f32f5733871eef92321c7bb89f2547e4"
  },
  "kernelspec": {
   "display_name": "Python 3.10.2 64-bit",
   "language": "python",
   "name": "python3"
  },
  "language_info": {
   "codemirror_mode": {
    "name": "ipython",
    "version": 3
   },
   "file_extension": ".py",
   "mimetype": "text/x-python",
   "name": "python",
   "nbconvert_exporter": "python",
   "pygments_lexer": "ipython3",
   "version": "3.10.2"
  },
  "orig_nbformat": 4
 },
 "nbformat": 4,
 "nbformat_minor": 2
}
